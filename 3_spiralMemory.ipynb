{
 "cells": [
  {
   "cell_type": "code",
   "execution_count": 247,
   "metadata": {
    "collapsed": true
   },
   "outputs": [],
   "source": [
    "import math\n",
    "def spiralMemory(input):\n",
    "    squareNum = int(math.sqrt(input))\n",
    "    if squareNum%2 == 0:\n",
    "        squareNum -= 1\n",
    "    newSquareNum = squareNum + 2\n",
    "    input = input-squareNum**2\n",
    "    if input == 0:\n",
    "        step = squareNum-1\n",
    "    else:\n",
    "        remainder = input%(newSquareNum-1)\n",
    "        index = int(remainder%(newSquareNum/2))\n",
    "        #print(remainder)\n",
    "        #print(index)\n",
    "        if remainder > (newSquareNum-1)/2:\n",
    "            numList = bigList(newSquareNum-1)\n",
    "            step = numList[index]\n",
    "        else:\n",
    "            numList = smallList(newSquareNum-1)\n",
    "            step = numList[index-1]\n",
    "        #print(numList)\n",
    "    return step\n",
    "\n",
    "def smallList(num):\n",
    "    i = num - 1\n",
    "    slist=[]\n",
    "    while i >= num/2:\n",
    "        slist.append(i)\n",
    "        i = i - 1\n",
    "    return slist\n",
    "\n",
    "def bigList(num):\n",
    "    i = int(num/2) + 1\n",
    "    blist=[]\n",
    "    while i <= num:\n",
    "        blist.append(i)\n",
    "        i = i + 1\n",
    "    return blist"
   ]
  },
  {
   "cell_type": "code",
   "execution_count": 248,
   "metadata": {},
   "outputs": [
    {
     "data": {
      "text/plain": [
       "[7, 6, 5, 4]"
      ]
     },
     "execution_count": 248,
     "metadata": {},
     "output_type": "execute_result"
    }
   ],
   "source": [
    "smallList(8)"
   ]
  },
  {
   "cell_type": "code",
   "execution_count": 249,
   "metadata": {},
   "outputs": [
    {
     "data": {
      "text/plain": [
       "[5, 6, 7, 8]"
      ]
     },
     "execution_count": 249,
     "metadata": {},
     "output_type": "execute_result"
    }
   ],
   "source": [
    "bigList(8)"
   ]
  },
  {
   "cell_type": "code",
   "execution_count": 250,
   "metadata": {},
   "outputs": [
    {
     "data": {
      "text/plain": [
       "4"
      ]
     },
     "execution_count": 250,
     "metadata": {},
     "output_type": "execute_result"
    }
   ],
   "source": [
    "spiralMemory(25)"
   ]
  },
  {
   "cell_type": "code",
   "execution_count": 251,
   "metadata": {},
   "outputs": [
    {
     "data": {
      "text/plain": [
       "5"
      ]
     },
     "execution_count": 251,
     "metadata": {},
     "output_type": "execute_result"
    }
   ],
   "source": [
    "spiralMemory(26)"
   ]
  },
  {
   "cell_type": "code",
   "execution_count": 252,
   "metadata": {},
   "outputs": [
    {
     "data": {
      "text/plain": [
       "5"
      ]
     },
     "execution_count": 252,
     "metadata": {},
     "output_type": "execute_result"
    }
   ],
   "source": [
    "spiralMemory(32)"
   ]
  },
  {
   "cell_type": "code",
   "execution_count": 253,
   "metadata": {},
   "outputs": [
    {
     "data": {
      "text/plain": [
       "5"
      ]
     },
     "execution_count": 253,
     "metadata": {},
     "output_type": "execute_result"
    }
   ],
   "source": [
    "spiralMemory(42)"
   ]
  },
  {
   "cell_type": "code",
   "execution_count": 254,
   "metadata": {},
   "outputs": [
    {
     "data": {
      "text/plain": [
       "475"
      ]
     },
     "execution_count": 254,
     "metadata": {},
     "output_type": "execute_result"
    }
   ],
   "source": [
    "spiralMemory(277678)"
   ]
  },
  {
   "cell_type": "markdown",
   "metadata": {
    "collapsed": true
   },
   "source": [
    "part 2"
   ]
  },
  {
   "cell_type": "code",
   "execution_count": 104,
   "metadata": {
    "collapsed": true
   },
   "outputs": [],
   "source": [
    "direction = {1:[1,0],2:[0,1],3:[-1,0],4:[0,-1]} #1.right 2.up 3.left 4.down\n",
    "positionNum = {(0,0):1,(1,0):1,(1,1):2}"
   ]
  },
  {
   "cell_type": "code",
   "execution_count": 34,
   "metadata": {},
   "outputs": [
    {
     "data": {
      "text/plain": [
       "{1: [1, 0], 2: [0, 1], 3: [-1, 0], 4: [0, -1]}"
      ]
     },
     "execution_count": 34,
     "metadata": {},
     "output_type": "execute_result"
    }
   ],
   "source": [
    "direction"
   ]
  },
  {
   "cell_type": "code",
   "execution_count": 35,
   "metadata": {},
   "outputs": [
    {
     "data": {
      "text/plain": [
       "{(0, 0): 1, (1, 0): 1, (1, 1): 2}"
      ]
     },
     "execution_count": 35,
     "metadata": {},
     "output_type": "execute_result"
    }
   ],
   "source": [
    "positionNum"
   ]
  },
  {
   "cell_type": "code",
   "execution_count": 36,
   "metadata": {
    "collapsed": true
   },
   "outputs": [],
   "source": [
    "#positionNum.update({(1+1,2+1):1})"
   ]
  },
  {
   "cell_type": "code",
   "execution_count": 37,
   "metadata": {},
   "outputs": [
    {
     "data": {
      "text/plain": [
       "dict_items([(1, [1, 0]), (2, [0, 1]), (3, [-1, 0]), (4, [0, -1])])"
      ]
     },
     "execution_count": 37,
     "metadata": {},
     "output_type": "execute_result"
    }
   ],
   "source": [
    "direction.items()"
   ]
  },
  {
   "cell_type": "code",
   "execution_count": 38,
   "metadata": {},
   "outputs": [
    {
     "data": {
      "text/plain": [
       "dict_keys([1, 2, 3, 4])"
      ]
     },
     "execution_count": 38,
     "metadata": {},
     "output_type": "execute_result"
    }
   ],
   "source": [
    "direction.keys()"
   ]
  },
  {
   "cell_type": "code",
   "execution_count": 39,
   "metadata": {},
   "outputs": [
    {
     "data": {
      "text/plain": [
       "dict_values([[1, 0], [0, 1], [-1, 0], [0, -1]])"
      ]
     },
     "execution_count": 39,
     "metadata": {},
     "output_type": "execute_result"
    }
   ],
   "source": [
    "direction.values()"
   ]
  },
  {
   "cell_type": "code",
   "execution_count": 40,
   "metadata": {
    "collapsed": true
   },
   "outputs": [],
   "source": [
    "def changeDirection(n):\n",
    "    if n >= 4:\n",
    "        return 1\n",
    "    else:\n",
    "        return n+1"
   ]
  },
  {
   "cell_type": "code",
   "execution_count": 134,
   "metadata": {
    "collapsed": true
   },
   "outputs": [],
   "source": [
    "positionNum = {(0,0):1,(1,0):1,(1,1):2}\n",
    "def appendOne(pn,n,i,j):\n",
    "    if n == 1:\n",
    "        pn.update({(i+1,j):pn.get((i,j))+pn.get((i,j+1))+pn.get((i+1,j+1))+pn.get((i+2,j+1))})\n",
    "    elif n == 2:\n",
    "        pn.update({(i,j+1):pn.get((i,j))+pn.get((i-1,j))+pn.get((i-1,j+1))+pn.get((i-1,j+2))})\n",
    "    elif n == 3:\n",
    "        pn.update({(i-1,j):pn.get((i,j))+pn.get((i,j-1))+pn.get((i-1,j-1))+pn.get((i-2,j-1))})\n",
    "    else:\n",
    "        pn.update({(i,j-1):pn.get((i,j))+pn.get((i+1,j))+pn.get((i+1,j-1))+pn.get((i+1,j-2))})\n",
    "\n",
    "def appendEndOne(pn,n,i,j):\n",
    "    if n == 1:\n",
    "        pn.update({(i+1,j):pn.get((i,j))+pn.get((i,j+1))+pn.get((i+1,j+1))})\n",
    "    elif n == 2:\n",
    "        pn.update({(i,j+1):pn.get((i,j))+pn.get((i-1,j))+pn.get((i-1,j+1))})\n",
    "    elif n == 3:\n",
    "        pn.update({(i-1,j):pn.get((i,j))+pn.get((i,j-1))+pn.get((i-1,j-1))})\n",
    "    else:\n",
    "        pn.update({(i,j-1):pn.get((i,j))+pn.get((i+1,j))+pn.get((i+1,j-1))})\n",
    "\n",
    "def appendCornerOne(pn,n,i,j):\n",
    "    if n == 1:\n",
    "        pn.update({(i+1,j):pn.get((i,j))+pn.get((i,j+1))})\n",
    "    elif n == 2:\n",
    "        pn.update({(i,j+1):pn.get((i,j))+pn.get((i-1,j))})\n",
    "    elif n == 3:\n",
    "        pn.update({(i-1,j):pn.get((i,j))+pn.get((i,j-1))})\n",
    "    else:\n",
    "        pn.update({(i,j-1):pn.get((i,j))+pn.get((i+1,j))})"
   ]
  },
  {
   "cell_type": "code",
   "execution_count": 135,
   "metadata": {
    "collapsed": true
   },
   "outputs": [],
   "source": [
    "appendEndOne(positionNum,3,1,1)"
   ]
  },
  {
   "cell_type": "code",
   "execution_count": 136,
   "metadata": {},
   "outputs": [
    {
     "data": {
      "text/plain": [
       "{(0, 0): 1, (0, 1): 4, (1, 0): 1, (1, 1): 2}"
      ]
     },
     "execution_count": 136,
     "metadata": {},
     "output_type": "execute_result"
    }
   ],
   "source": [
    "positionNum"
   ]
  },
  {
   "cell_type": "code",
   "execution_count": 137,
   "metadata": {
    "collapsed": true
   },
   "outputs": [],
   "source": [
    "appendCornerOne(positionNum,3,0,1)"
   ]
  },
  {
   "cell_type": "code",
   "execution_count": 138,
   "metadata": {},
   "outputs": [
    {
     "data": {
      "text/plain": [
       "{(-1, 1): 5, (0, 0): 1, (0, 1): 4, (1, 0): 1, (1, 1): 2}"
      ]
     },
     "execution_count": 138,
     "metadata": {},
     "output_type": "execute_result"
    }
   ],
   "source": [
    "positionNum"
   ]
  },
  {
   "cell_type": "code",
   "execution_count": 139,
   "metadata": {
    "collapsed": true
   },
   "outputs": [],
   "source": [
    "appendEndOne(positionNum,4,-1,1)"
   ]
  },
  {
   "cell_type": "code",
   "execution_count": 140,
   "metadata": {},
   "outputs": [
    {
     "data": {
      "text/plain": [
       "{(-1, 0): 10, (-1, 1): 5, (0, 0): 1, (0, 1): 4, (1, 0): 1, (1, 1): 2}"
      ]
     },
     "execution_count": 140,
     "metadata": {},
     "output_type": "execute_result"
    }
   ],
   "source": [
    "positionNum"
   ]
  },
  {
   "cell_type": "code",
   "execution_count": 141,
   "metadata": {
    "collapsed": true
   },
   "outputs": [],
   "source": [
    "appendCornerOne(positionNum,4,-1,0)"
   ]
  },
  {
   "cell_type": "code",
   "execution_count": 142,
   "metadata": {},
   "outputs": [
    {
     "data": {
      "text/plain": [
       "{(-1, -1): 11,\n",
       " (-1, 0): 10,\n",
       " (-1, 1): 5,\n",
       " (0, 0): 1,\n",
       " (0, 1): 4,\n",
       " (1, 0): 1,\n",
       " (1, 1): 2}"
      ]
     },
     "execution_count": 142,
     "metadata": {},
     "output_type": "execute_result"
    }
   ],
   "source": [
    "positionNum"
   ]
  },
  {
   "cell_type": "code",
   "execution_count": 143,
   "metadata": {
    "collapsed": true
   },
   "outputs": [],
   "source": [
    "appendOne(positionNum,1,-1,-1)"
   ]
  },
  {
   "cell_type": "code",
   "execution_count": 144,
   "metadata": {},
   "outputs": [
    {
     "data": {
      "text/plain": [
       "{(-1, -1): 11,\n",
       " (-1, 0): 10,\n",
       " (-1, 1): 5,\n",
       " (0, -1): 23,\n",
       " (0, 0): 1,\n",
       " (0, 1): 4,\n",
       " (1, 0): 1,\n",
       " (1, 1): 2}"
      ]
     },
     "execution_count": 144,
     "metadata": {},
     "output_type": "execute_result"
    }
   ],
   "source": [
    "positionNum"
   ]
  },
  {
   "cell_type": "code",
   "execution_count": 145,
   "metadata": {
    "collapsed": true
   },
   "outputs": [],
   "source": [
    "appendEndOne(positionNum,1,0,-1)"
   ]
  },
  {
   "cell_type": "code",
   "execution_count": 146,
   "metadata": {},
   "outputs": [
    {
     "data": {
      "text/plain": [
       "{(-1, -1): 11,\n",
       " (-1, 0): 10,\n",
       " (-1, 1): 5,\n",
       " (0, -1): 23,\n",
       " (0, 0): 1,\n",
       " (0, 1): 4,\n",
       " (1, -1): 25,\n",
       " (1, 0): 1,\n",
       " (1, 1): 2}"
      ]
     },
     "execution_count": 146,
     "metadata": {},
     "output_type": "execute_result"
    }
   ],
   "source": [
    "positionNum"
   ]
  },
  {
   "cell_type": "code",
   "execution_count": 147,
   "metadata": {
    "collapsed": true
   },
   "outputs": [],
   "source": [
    "appendCornerOne(positionNum,1,1,-1)"
   ]
  },
  {
   "cell_type": "code",
   "execution_count": 148,
   "metadata": {},
   "outputs": [
    {
     "data": {
      "text/plain": [
       "{(-1, -1): 11,\n",
       " (-1, 0): 10,\n",
       " (-1, 1): 5,\n",
       " (0, -1): 23,\n",
       " (0, 0): 1,\n",
       " (0, 1): 4,\n",
       " (1, -1): 25,\n",
       " (1, 0): 1,\n",
       " (1, 1): 2,\n",
       " (2, -1): 26}"
      ]
     },
     "execution_count": 148,
     "metadata": {},
     "output_type": "execute_result"
    }
   ],
   "source": [
    "positionNum"
   ]
  },
  {
   "cell_type": "code",
   "execution_count": 153,
   "metadata": {
    "collapsed": true
   },
   "outputs": [],
   "source": [
    "appendOne(positionNum,2,2,-1)"
   ]
  },
  {
   "cell_type": "code",
   "execution_count": null,
   "metadata": {
    "collapsed": true
   },
   "outputs": [],
   "source": [
    "positionNum"
   ]
  },
  {
   "cell_type": "code",
   "execution_count": 36,
   "metadata": {},
   "outputs": [
    {
     "name": "stdout",
     "output_type": "stream",
     "text": [
      "(1, 1)\n"
     ]
    },
    {
     "data": {
      "text/plain": [
       "{(-1, -1): 11,\n",
       " (-1, 0): 10,\n",
       " (-1, 1): 5,\n",
       " (0, -1): 23,\n",
       " (0, 0): 1,\n",
       " (0, 1): 4,\n",
       " (1, -1): 25,\n",
       " (1, 0): 1,\n",
       " (1, 1): 2,\n",
       " (2, -1): 26,\n",
       " (2, 0): 54}"
      ]
     },
     "execution_count": 36,
     "metadata": {},
     "output_type": "execute_result"
    }
   ],
   "source": [
    "positionNum = {(0,0):1,(1,0):1,(1,1):2}\n",
    "appendEndOne(positionNum,3,1,1)\n",
    "appendCornerOne(positionNum,3,0,1)\n",
    "appendEndOne(positionNum,4,-1,1)\n",
    "appendCornerOne(positionNum,4,-1,0)\n",
    "appendOne(positionNum,1,-1,-1)\n",
    "appendEndOne(positionNum,1,0,-1)\n",
    "appendCornerOne(positionNum,1,1,-1)\n",
    "appendOne(positionNum,2,2,-1)\n",
    "positionNum"
   ]
  },
  {
   "cell_type": "code",
   "execution_count": null,
   "metadata": {
    "collapsed": true
   },
   "outputs": [],
   "source": [
    "values = (1,2,44,5)"
   ]
  },
  {
   "cell_type": "code",
   "execution_count": null,
   "metadata": {
    "collapsed": true
   },
   "outputs": [],
   "source": [
    "values[1]"
   ]
  },
  {
   "cell_type": "code",
   "execution_count": 97,
   "metadata": {
    "collapsed": true
   },
   "outputs": [],
   "source": [
    "def appendOne(pn,n,i,j):\n",
    "    if n == 1:\n",
    "        pn.update({(i+1,j):pn.get((i,j))+pn.get((i,j+1))+pn.get((i+1,j+1))+pn.get((i+2,j+1))})\n",
    "        i = i+1\n",
    "    elif n == 2:\n",
    "        pn.update({(i,j+1):pn.get((i,j))+pn.get((i-1,j))+pn.get((i-1,j+1))+pn.get((i-1,j+2))})\n",
    "        j = j+1\n",
    "    elif n == 3:\n",
    "        pn.update({(i-1,j):pn.get((i,j))+pn.get((i,j-1))+pn.get((i-1,j-1))+pn.get((i-2,j-1))})\n",
    "        i = i-1\n",
    "    else:\n",
    "        pn.update({(i,j-1):pn.get((i,j))+pn.get((i+1,j))+pn.get((i+1,j-1))+pn.get((i+1,j-2))})\n",
    "        j = j-1\n",
    "    print(pn.get((i,j)))\n",
    "    return((pn,n,i,j))\n",
    "\n",
    "def appendEndOne(pn,n,i,j):\n",
    "    if n == 1:\n",
    "        pn.update({(i+1,j):pn.get((i,j))+pn.get((i,j+1))+pn.get((i+1,j+1))})\n",
    "        i = i+1\n",
    "    elif n == 2:\n",
    "        pn.update({(i,j+1):pn.get((i,j))+pn.get((i-1,j))+pn.get((i-1,j+1))})\n",
    "        j = j+1\n",
    "    elif n == 3:\n",
    "        #print((i,j))\n",
    "        pn.update({(i-1,j):pn.get((i,j))+pn.get((i,j-1))+pn.get((i-1,j-1))})\n",
    "        i = i-1\n",
    "    else:\n",
    "        pn.update({(i,j-1):pn.get((i,j))+pn.get((i+1,j))+pn.get((i+1,j-1))})\n",
    "        j = j-1\n",
    "    print(pn.get((i,j)))\n",
    "    return((pn,n,i,j))\n",
    "\n",
    "def appendCornerOne(pn,n,i,j):\n",
    "    if n == 1:\n",
    "        pn.update({(i+1,j):pn.get((i,j))+pn.get((i,j+1))})\n",
    "        i = i+1\n",
    "    elif n == 2:\n",
    "        pn.update({(i,j+1):pn.get((i,j))+pn.get((i-1,j))})\n",
    "        j = j+1\n",
    "    elif n == 3:\n",
    "        pn.update({(i-1,j):pn.get((i,j))+pn.get((i,j-1))})\n",
    "        i = i-1\n",
    "    else:\n",
    "        pn.update({(i,j-1):pn.get((i,j))+pn.get((i+1,j))})\n",
    "        j = j-1\n",
    "    print(pn.get((i,j)))\n",
    "    return((pn,n,i,j))\n",
    "\n",
    "direction = {1:[1,0],2:[0,1],3:[-1,0],4:[0,-1]} #1.right 2.up 3.left 4.down\n",
    "\n",
    "def changeDirection(n):\n",
    "    if n >= 4:\n",
    "        return 1\n",
    "    else:\n",
    "        return n+1\n",
    "    \n",
    "def continueWith(num,pn,direc,i,j):\n",
    "    limit = num\n",
    "    while limit > 0:\n",
    "        if limit > 2:\n",
    "            values = appendOne(pn,direc,i,j)\n",
    "            pn = values[0]\n",
    "            direc = values[1]\n",
    "            i = values[2]\n",
    "            j = values[3]\n",
    "        elif limit == 2:\n",
    "            values = appendEndOne(pn,direc,i,j)\n",
    "            pn = values[0]\n",
    "            direc = values[1]\n",
    "            i = values[2]\n",
    "            j = values[3]\n",
    "        else:\n",
    "            values = appendCornerOne(pn,direc,i,j)\n",
    "            pn = values[0]\n",
    "            direc = values[1]\n",
    "            i = values[2]\n",
    "            j = values[3]\n",
    "            direc = changeDirection(direc)\n",
    "            #print(\"changeChange\")\n",
    "        limit-=1\n",
    "        #print(\"limit\" + str(limit))\n",
    "    return((pn,direc,i,j))\n",
    "\n",
    "def driver():\n",
    "    direc = 3\n",
    "    num = 2\n",
    "    positionNum = {(0,0):1,(1,0):1,(1,1):2}\n",
    "    i = 1\n",
    "    j = 1\n",
    "    toChange = 2\n",
    "    while positionNum.get((i,j)) < 277678:\n",
    "        print(\"toChange\" + str(toChange))\n",
    "        \n",
    "        #print(positionNum.get((0,0)))\n",
    "        #print(positionNum)\n",
    "        if toChange > 0:\n",
    "            values = continueWith(num,positionNum,direc,i,j)\n",
    "            positionNum = values[0]\n",
    "            direc = values[1]\n",
    "            i = values[2]\n",
    "            j = values[3]\n",
    "            toChange -= 1\n",
    "        else:\n",
    "            num += 1\n",
    "            #values = continueWith(num,positionNum,direc,i,j)\n",
    "            toChange = 2\n",
    "    #print(positionNum.get((0,0)))"
   ]
  },
  {
   "cell_type": "code",
   "execution_count": 98,
   "metadata": {},
   "outputs": [
    {
     "name": "stdout",
     "output_type": "stream",
     "text": [
      "toChange2\n",
      "4\n",
      "5\n",
      "toChange1\n",
      "10\n",
      "11\n",
      "toChange0\n",
      "toChange2\n",
      "23\n",
      "25\n",
      "26\n",
      "toChange1\n",
      "54\n",
      "57\n",
      "59\n",
      "toChange0\n",
      "toChange2\n",
      "122\n",
      "133\n",
      "142\n",
      "147\n",
      "toChange1\n",
      "304\n",
      "330\n",
      "351\n",
      "362\n",
      "toChange0\n",
      "toChange2\n",
      "747\n",
      "806\n",
      "880\n",
      "931\n",
      "957\n",
      "toChange1\n",
      "1968\n",
      "2105\n",
      "2275\n",
      "2391\n",
      "2450\n",
      "toChange0\n",
      "toChange2\n",
      "5022\n",
      "5336\n",
      "5733\n",
      "6155\n",
      "6444\n",
      "6591\n",
      "toChange1\n",
      "13486\n",
      "14267\n",
      "15252\n",
      "16295\n",
      "17008\n",
      "17370\n",
      "toChange0\n",
      "toChange2\n",
      "35487\n",
      "37402\n",
      "39835\n",
      "42452\n",
      "45220\n",
      "47108\n",
      "48065\n",
      "toChange1\n",
      "98098\n",
      "103128\n",
      "109476\n",
      "116247\n",
      "123363\n",
      "128204\n",
      "130654\n",
      "toChange0\n",
      "toChange2\n",
      "266330\n",
      "279138\n",
      "295229\n",
      "312453\n",
      "330785\n",
      "349975\n",
      "363010\n",
      "369601\n"
     ]
    }
   ],
   "source": [
    "driver()"
   ]
  },
  {
   "cell_type": "code",
   "execution_count": 93,
   "metadata": {
    "collapsed": true
   },
   "outputs": [],
   "source": [
    "hello = ({1:2,2:3},2,3)"
   ]
  },
  {
   "cell_type": "code",
   "execution_count": 70,
   "metadata": {},
   "outputs": [
    {
     "data": {
      "text/plain": [
       "{1: 2, 2: 3}"
      ]
     },
     "execution_count": 70,
     "metadata": {},
     "output_type": "execute_result"
    }
   ],
   "source": [
    "hello[0]"
   ]
  },
  {
   "cell_type": "code",
   "execution_count": 21,
   "metadata": {},
   "outputs": [
    {
     "data": {
      "text/plain": [
       "2"
      ]
     },
     "execution_count": 21,
     "metadata": {},
     "output_type": "execute_result"
    }
   ],
   "source": [
    "hello[1]"
   ]
  },
  {
   "cell_type": "code",
   "execution_count": null,
   "metadata": {
    "collapsed": true
   },
   "outputs": [],
   "source": []
  }
 ],
 "metadata": {
  "kernelspec": {
   "display_name": "Python 3",
   "language": "python",
   "name": "python3"
  },
  "language_info": {
   "codemirror_mode": {
    "name": "ipython",
    "version": 3
   },
   "file_extension": ".py",
   "mimetype": "text/x-python",
   "name": "python",
   "nbconvert_exporter": "python",
   "pygments_lexer": "ipython3",
   "version": "3.6.1"
  }
 },
 "nbformat": 4,
 "nbformat_minor": 2
}
