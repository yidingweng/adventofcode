{
 "cells": [
  {
   "cell_type": "code",
   "execution_count": 10,
   "metadata": {
    "collapsed": true,
    "scrolled": true
   },
   "outputs": [],
   "source": [
    "text_file = open(\"2_input.txt\",\"r\")"
   ]
  },
  {
   "cell_type": "code",
   "execution_count": 11,
   "metadata": {},
   "outputs": [
    {
     "data": {
      "text/plain": [
       "<_io.TextIOWrapper name='2_input.txt' mode='r' encoding='UTF-8'>"
      ]
     },
     "execution_count": 11,
     "metadata": {},
     "output_type": "execute_result"
    }
   ],
   "source": [
    "text_file"
   ]
  },
  {
   "cell_type": "code",
   "execution_count": 12,
   "metadata": {},
   "outputs": [
    {
     "name": "stdout",
     "output_type": "stream",
     "text": [
      "<_io.TextIOWrapper name='2_input.txt' mode='r' encoding='UTF-8'>\n"
     ]
    }
   ],
   "source": [
    "print(text_file)"
   ]
  },
  {
   "cell_type": "code",
   "execution_count": 13,
   "metadata": {
    "collapsed": true
   },
   "outputs": [],
   "source": [
    "lines = text_file.readlines()"
   ]
  },
  {
   "cell_type": "code",
   "execution_count": 14,
   "metadata": {},
   "outputs": [
    {
     "name": "stdout",
     "output_type": "stream",
     "text": [
      "['798\\t1976\\t1866\\t1862\\t559\\t1797\\t1129\\t747\\t85\\t1108\\t104\\t2000\\t248\\t131\\t87\\t95\\n', '201\\t419\\t336\\t65\\t208\\t57\\t74\\t433\\t68\\t360\\t390\\t412\\t355\\t209\\t330\\t135\\n', '967\\t84\\t492\\t1425\\t1502\\t1324\\t1268\\t1113\\t1259\\t81\\t310\\t1360\\t773\\t69\\t68\\t290\\n', '169\\t264\\t107\\t298\\t38\\t149\\t56\\t126\\t276\\t45\\t305\\t403\\t89\\t179\\t394\\t172\\n', '3069\\t387\\t2914\\t2748\\t1294\\t1143\\t3099\\t152\\t2867\\t3082\\t113\\t145\\t2827\\t2545\\t134\\t469\\n', '3885\\t1098\\t2638\\t5806\\t4655\\t4787\\t186\\t4024\\t2286\\t5585\\t5590\\t215\\t5336\\t2738\\t218\\t266\\n', '661\\t789\\t393\\t159\\t172\\t355\\t820\\t891\\t196\\t831\\t345\\t784\\t65\\t971\\t396\\t234\\n', '4095\\t191\\t4333\\t161\\t3184\\t193\\t4830\\t4153\\t2070\\t3759\\t1207\\t3222\\t185\\t176\\t2914\\t4152\\n', '131\\t298\\t279\\t304\\t118\\t135\\t300\\t74\\t269\\t96\\t366\\t341\\t139\\t159\\t17\\t149\\n', '1155\\t5131\\t373\\t136\\t103\\t5168\\t3424\\t5126\\t122\\t5046\\t4315\\t126\\t236\\t4668\\t4595\\t4959\\n', '664\\t635\\t588\\t673\\t354\\t656\\t70\\t86\\t211\\t139\\t95\\t40\\t84\\t413\\t618\\t31\\n', '2163\\t127\\t957\\t2500\\t2370\\t2344\\t2224\\t1432\\t125\\t1984\\t2392\\t379\\t2292\\t98\\t456\\t154\\n', '271\\t4026\\t2960\\t6444\\t2896\\t228\\t819\\t676\\t6612\\t6987\\t265\\t2231\\t2565\\t6603\\t207\\t6236\\n', '91\\t683\\t1736\\t1998\\t1960\\t1727\\t84\\t1992\\t1072\\t1588\\t1768\\t74\\t58\\t1956\\t1627\\t893\\n', '3591\\t1843\\t3448\\t1775\\t3564\\t2632\\t1002\\t3065\\t77\\t3579\\t78\\t99\\t1668\\t98\\t2963\\t3553\\n', '2155\\t225\\t2856\\t3061\\t105\\t204\\t1269\\t171\\t2505\\t2852\\t977\\t1377\\t181\\t1856\\t2952\\t2262\\n']\n"
     ]
    }
   ],
   "source": [
    "print(lines)"
   ]
  },
  {
   "cell_type": "code",
   "execution_count": 15,
   "metadata": {},
   "outputs": [
    {
     "name": "stdout",
     "output_type": "stream",
     "text": [
      "16\n"
     ]
    }
   ],
   "source": [
    "print(len(lines))"
   ]
  },
  {
   "cell_type": "code",
   "execution_count": 16,
   "metadata": {},
   "outputs": [
    {
     "name": "stdout",
     "output_type": "stream",
     "text": [
      "798\t1976\t1866\t1862\t559\t1797\t1129\t747\t85\t1108\t104\t2000\t248\t131\t87\t95\n",
      "\n",
      "201\t419\t336\t65\t208\t57\t74\t433\t68\t360\t390\t412\t355\t209\t330\t135\n",
      "\n",
      "967\t84\t492\t1425\t1502\t1324\t1268\t1113\t1259\t81\t310\t1360\t773\t69\t68\t290\n",
      "\n",
      "169\t264\t107\t298\t38\t149\t56\t126\t276\t45\t305\t403\t89\t179\t394\t172\n",
      "\n",
      "3069\t387\t2914\t2748\t1294\t1143\t3099\t152\t2867\t3082\t113\t145\t2827\t2545\t134\t469\n",
      "\n",
      "3885\t1098\t2638\t5806\t4655\t4787\t186\t4024\t2286\t5585\t5590\t215\t5336\t2738\t218\t266\n",
      "\n",
      "661\t789\t393\t159\t172\t355\t820\t891\t196\t831\t345\t784\t65\t971\t396\t234\n",
      "\n",
      "4095\t191\t4333\t161\t3184\t193\t4830\t4153\t2070\t3759\t1207\t3222\t185\t176\t2914\t4152\n",
      "\n",
      "131\t298\t279\t304\t118\t135\t300\t74\t269\t96\t366\t341\t139\t159\t17\t149\n",
      "\n",
      "1155\t5131\t373\t136\t103\t5168\t3424\t5126\t122\t5046\t4315\t126\t236\t4668\t4595\t4959\n",
      "\n",
      "664\t635\t588\t673\t354\t656\t70\t86\t211\t139\t95\t40\t84\t413\t618\t31\n",
      "\n",
      "2163\t127\t957\t2500\t2370\t2344\t2224\t1432\t125\t1984\t2392\t379\t2292\t98\t456\t154\n",
      "\n",
      "271\t4026\t2960\t6444\t2896\t228\t819\t676\t6612\t6987\t265\t2231\t2565\t6603\t207\t6236\n",
      "\n",
      "91\t683\t1736\t1998\t1960\t1727\t84\t1992\t1072\t1588\t1768\t74\t58\t1956\t1627\t893\n",
      "\n",
      "3591\t1843\t3448\t1775\t3564\t2632\t1002\t3065\t77\t3579\t78\t99\t1668\t98\t2963\t3553\n",
      "\n",
      "2155\t225\t2856\t3061\t105\t204\t1269\t171\t2505\t2852\t977\t1377\t181\t1856\t2952\t2262\n",
      "\n"
     ]
    }
   ],
   "source": [
    "for line in lines:\n",
    "    print (line)"
   ]
  },
  {
   "cell_type": "code",
   "execution_count": 17,
   "metadata": {},
   "outputs": [
    {
     "data": {
      "text/plain": [
       "str"
      ]
     },
     "execution_count": 17,
     "metadata": {},
     "output_type": "execute_result"
    }
   ],
   "source": [
    "type(line)"
   ]
  },
  {
   "cell_type": "code",
   "execution_count": 18,
   "metadata": {
    "collapsed": true
   },
   "outputs": [],
   "source": [
    "intList = line.split()"
   ]
  },
  {
   "cell_type": "code",
   "execution_count": 19,
   "metadata": {},
   "outputs": [
    {
     "data": {
      "text/plain": [
       "['2155',\n",
       " '225',\n",
       " '2856',\n",
       " '3061',\n",
       " '105',\n",
       " '204',\n",
       " '1269',\n",
       " '171',\n",
       " '2505',\n",
       " '2852',\n",
       " '977',\n",
       " '1377',\n",
       " '181',\n",
       " '1856',\n",
       " '2952',\n",
       " '2262']"
      ]
     },
     "execution_count": 19,
     "metadata": {},
     "output_type": "execute_result"
    }
   ],
   "source": [
    "intList"
   ]
  },
  {
   "cell_type": "code",
   "execution_count": 20,
   "metadata": {},
   "outputs": [
    {
     "data": {
      "text/plain": [
       "'977'"
      ]
     },
     "execution_count": 20,
     "metadata": {},
     "output_type": "execute_result"
    }
   ],
   "source": [
    "max(intList)"
   ]
  },
  {
   "cell_type": "code",
   "execution_count": 21,
   "metadata": {},
   "outputs": [
    {
     "data": {
      "text/plain": [
       "'105'"
      ]
     },
     "execution_count": 21,
     "metadata": {},
     "output_type": "execute_result"
    }
   ],
   "source": [
    "min(intList)"
   ]
  },
  {
   "cell_type": "code",
   "execution_count": 22,
   "metadata": {
    "collapsed": true
   },
   "outputs": [],
   "source": [
    "intList = list(map(int, intList))"
   ]
  },
  {
   "cell_type": "code",
   "execution_count": 23,
   "metadata": {},
   "outputs": [
    {
     "data": {
      "text/plain": [
       "3061"
      ]
     },
     "execution_count": 23,
     "metadata": {},
     "output_type": "execute_result"
    }
   ],
   "source": [
    "max(intList)"
   ]
  },
  {
   "cell_type": "code",
   "execution_count": 26,
   "metadata": {},
   "outputs": [
    {
     "name": "stdout",
     "output_type": "stream",
     "text": [
      "1915\n",
      "2291\n",
      "3725\n",
      "4090\n",
      "7076\n",
      "12696\n",
      "13602\n",
      "18271\n",
      "18620\n",
      "23685\n",
      "24327\n",
      "26729\n",
      "33509\n",
      "35449\n",
      "38963\n",
      "41919\n"
     ]
    }
   ],
   "source": [
    "checksum = 0\n",
    "for line in lines:\n",
    "    intList = line.split()\n",
    "    intList = list(map(int, intList))\n",
    "    checksum = checksum + max(intList) - min(intList)\n",
    "    print(checksum)"
   ]
  },
  {
   "cell_type": "markdown",
   "metadata": {},
   "source": [
    "put everything together"
   ]
  },
  {
   "cell_type": "code",
   "execution_count": 27,
   "metadata": {},
   "outputs": [
    {
     "name": "stdout",
     "output_type": "stream",
     "text": [
      "41919\n"
     ]
    }
   ],
   "source": [
    "text_file = open(\"2_input.txt\",\"r\")\n",
    "lines = text_file.readlines()\n",
    "checksum = 0\n",
    "for line in lines:\n",
    "    intList = line.split()\n",
    "    intList = list(map(int, intList))\n",
    "    checksum = checksum + max(intList) - min(intList)\n",
    "print(checksum)"
   ]
  },
  {
   "cell_type": "markdown",
   "metadata": {},
   "source": [
    "Part 2"
   ]
  },
  {
   "cell_type": "code",
   "execution_count": 7,
   "metadata": {},
   "outputs": [
    {
     "name": "stdout",
     "output_type": "stream",
     "text": [
      "1976\n",
      "104\n",
      "1360\n",
      "68\n",
      "298\n",
      "149\n",
      "3082\n",
      "134\n",
      "5590\n",
      "215\n",
      "298\n",
      "149\n",
      "588\n",
      "84\n",
      "2500\n",
      "125\n",
      "1998\n",
      "74\n",
      "3564\n",
      "99\n",
      "2856\n",
      "204\n",
      "196.0\n"
     ]
    }
   ],
   "source": [
    "text_file = open(\"2_input.txt\",\"r\")\n",
    "lines = text_file.readlines()\n",
    "checksum = 0\n",
    "for line in lines:\n",
    "    intList = line.split()\n",
    "    intList = list(map(int, intList))\n",
    "    i = 0\n",
    "    j = 1\n",
    "    while i < len(intList):\n",
    "        while j < len(intList):\n",
    "            if intList[i]%intList[j]==0:\n",
    "                checksum += intList[i]/intList[j]\n",
    "                print(intList[i])\n",
    "                print(intList[j])\n",
    "                break\n",
    "            j += 1\n",
    "        i += 1\n",
    "        j = i + 1\n",
    "print(checksum)"
   ]
  },
  {
   "cell_type": "markdown",
   "metadata": {},
   "source": [
    "need to make sure the later number can divide the former numbers, but not itself"
   ]
  },
  {
   "cell_type": "code",
   "execution_count": 8,
   "metadata": {},
   "outputs": [
    {
     "name": "stdout",
     "output_type": "stream",
     "text": [
      "1976\n",
      "104\n",
      "390\n",
      "65\n",
      "1360\n",
      "68\n",
      "298\n",
      "149\n",
      "3082\n",
      "134\n",
      "5590\n",
      "215\n",
      "784\n",
      "196\n",
      "4830\n",
      "161\n",
      "298\n",
      "149\n",
      "5168\n",
      "136\n",
      "588\n",
      "84\n",
      "2500\n",
      "125\n",
      "6612\n",
      "228\n",
      "1998\n",
      "74\n",
      "3564\n",
      "99\n",
      "2856\n",
      "204\n",
      "303.0\n"
     ]
    }
   ],
   "source": [
    "text_file = open(\"2_input.txt\",\"r\")\n",
    "lines = text_file.readlines()\n",
    "checksum = 0\n",
    "for line in lines:\n",
    "    intList = line.split()\n",
    "    intList = list(map(int, intList))\n",
    "    i = 0\n",
    "    j = 0\n",
    "    while i < len(intList):\n",
    "        while j < len(intList):\n",
    "            if intList[i]%intList[j]==0 and intList[i] != intList[j]:\n",
    "                checksum += intList[i]/intList[j]\n",
    "                print(intList[i])\n",
    "                print(intList[j])\n",
    "                break\n",
    "            j += 1\n",
    "        i += 1\n",
    "        j = 0\n",
    "print(checksum)"
   ]
  },
  {
   "cell_type": "code",
   "execution_count": null,
   "metadata": {
    "collapsed": true
   },
   "outputs": [],
   "source": []
  }
 ],
 "metadata": {
  "kernelspec": {
   "display_name": "Python 3",
   "language": "python",
   "name": "python3"
  },
  "language_info": {
   "codemirror_mode": {
    "name": "ipython",
    "version": 3
   },
   "file_extension": ".py",
   "mimetype": "text/x-python",
   "name": "python",
   "nbconvert_exporter": "python",
   "pygments_lexer": "ipython3",
   "version": "3.6.1"
  }
 },
 "nbformat": 4,
 "nbformat_minor": 2
}
